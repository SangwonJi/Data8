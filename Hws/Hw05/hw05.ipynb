{
 "cells": [
  {
   "cell_type": "code",
   "execution_count": 1,
   "id": "d229182d",
   "metadata": {
    "deletable": false,
    "editable": false
   },
   "outputs": [],
   "source": [
    "# Initialize Otter\n",
    "import otter\n",
    "grader = otter.Notebook(\"hw05.ipynb\")"
   ]
  },
  {
   "cell_type": "markdown",
   "id": "45215b37",
   "metadata": {},
   "source": [
    "# Homework 5: Applying Functions and Iteration\n",
    "\n",
    "Please complete this notebook by filling in the cells provided. Before you begin, execute the previous cell to load the provided tests."
   ]
  },
  {
   "cell_type": "markdown",
   "id": "4f46e76b",
   "metadata": {},
   "source": [
    "**Helpful Resource:**\n",
    "- [Python Reference](http://data8.org/su22/python-reference.html): Cheat sheet of helpful array & table methods used in Data 8!\n",
    "\n",
    "**Recommended Readings**: \n",
    "\n",
    "* [Tabular Thinking Guide](https://drive.google.com/file/d/13HaWu4rrjeowEOs6S_vaQGM3GremzXQ3/view?usp=sharing)\n",
    "* [Applying Functions](https://www.inferentialthinking.com/chapters/08/1/Applying_a_Function_to_a_Column.html)\n",
    "* [Conditionals](https://www.inferentialthinking.com/chapters/09/1/Conditional_Statements.html)\n",
    "* [Iteration](https://www.inferentialthinking.com/chapters/09/2/Iteration.html)"
   ]
  },
  {
   "cell_type": "markdown",
   "id": "044d377d",
   "metadata": {},
   "source": [
    "Please complete this notebook by filling in the cells provided. Before you begin, execute the cell below to setup the notebook by importing some helpful libraries. Each time you start your server, you will need to execute this cell again.\n",
    "\n",
    "For all problems that you must write explanations and sentences for, you **must** provide your answer in the designated space. **Moreover, throughout this homework and all future ones, please be sure to not re-assign variables throughout the notebook!** For example, if you use `max_temperature` in your answer to one question, do not reassign it later on. Otherwise, you will fail tests that you thought you were passing previously!\n",
    "\n",
    "**Deadline:**\n",
    "\n",
    "This assignment is due **Friday, 7/8 at 11:59pm PT**. Turn it in by Thursday, 7/7 at 11:59pm PT for 5 extra credit points. Late work will not be accepted as per the [policies](http://data8.org/su22/policies.html) page.\n",
    "\n",
    "**Note: This homework has hidden tests on it. That means even though tests may say 100% passed, it doesn't mean your final grade will be 100%. We will be running more tests for correctness once everyone turns in the homework.**\n",
    "\n",
    "Directly sharing answers is not okay, but discussing problems with the course staff or with other students is encouraged. Refer to the policies page to learn more about how to learn cooperatively.\n",
    "\n",
    "You should start early so that you have time to get help if you're stuck. Office hours are held on Tuesdays, Thursdays, and Fridays. The schedule appears on [http://data8.org/su22/office-hours.html](http://data8.org/su22/office-hours.html)."
   ]
  },
  {
   "cell_type": "markdown",
   "id": "ba808651",
   "metadata": {},
   "source": [
    "## 1. 2021 Cal Football Season"
   ]
  },
  {
   "cell_type": "code",
   "execution_count": 2,
   "id": "e7112853",
   "metadata": {},
   "outputs": [],
   "source": [
    "# Run this cell to set up the notebook, but please don't change it.\n",
    "\n",
    "# These lines import the Numpy and Datascience modules.\n",
    "import numpy as np\n",
    "from datascience import *\n",
    "import d8error\n",
    "\n",
    "# These lines do some fancy plotting magic.\n",
    "import matplotlib\n",
    "%matplotlib inline\n",
    "import matplotlib.pyplot as plt\n",
    "plt.style.use('fivethirtyeight')\n",
    "import warnings\n",
    "warnings.simplefilter('ignore', FutureWarning)"
   ]
  },
  {
   "cell_type": "markdown",
   "id": "c2e1b415",
   "metadata": {},
   "source": [
    "James is trying to analyze how well the Cal football team performed in the 2021 season. A football game is divided into four periods, called quarters. The number of points Cal scored in each quarter and the number of points their opponent scored in each quarter are stored in a table called `cal_fb.csv`."
   ]
  },
  {
   "cell_type": "code",
   "execution_count": 3,
   "id": "318e2db8",
   "metadata": {
    "deletable": false,
    "editable": false
   },
   "outputs": [
    {
     "data": {
      "text/html": [
       "<table border=\"1\" class=\"dataframe\">\n",
       "    <thead>\n",
       "        <tr>\n",
       "            <th>Opponent</th> <th>Cal 1Q</th> <th>Cal 2Q</th> <th>Cal 3Q</th> <th>Cal 4Q</th> <th>Opp 1Q</th> <th>Opp 2Q</th> <th>Opp 3Q</th> <th>Opp 4Q</th>\n",
       "        </tr>\n",
       "    </thead>\n",
       "    <tbody>\n",
       "        <tr>\n",
       "            <td>Nevada          </td> <td>14    </td> <td>0     </td> <td>0     </td> <td>3     </td> <td>0     </td> <td>13    </td> <td>9     </td> <td>0     </td>\n",
       "        </tr>\n",
       "        <tr>\n",
       "            <td>TCU             </td> <td>6     </td> <td>13    </td> <td>0     </td> <td>13    </td> <td>0     </td> <td>14    </td> <td>7     </td> <td>13    </td>\n",
       "        </tr>\n",
       "        <tr>\n",
       "            <td>Sacramento State</td> <td>14    </td> <td>7     </td> <td>14    </td> <td>7     </td> <td>6     </td> <td>0     </td> <td>14    </td> <td>10    </td>\n",
       "        </tr>\n",
       "        <tr>\n",
       "            <td>Washington      </td> <td>7     </td> <td>3     </td> <td>7     </td> <td>7     </td> <td>7     </td> <td>14    </td> <td>3     </td> <td>7     </td>\n",
       "        </tr>\n",
       "        <tr>\n",
       "            <td>Washington State</td> <td>6     </td> <td>0     </td> <td>0     </td> <td>0     </td> <td>14    </td> <td>0     </td> <td>7     </td> <td>0     </td>\n",
       "        </tr>\n",
       "        <tr>\n",
       "            <td>Oregon          </td> <td>7     </td> <td>0     </td> <td>3     </td> <td>7     </td> <td>3     </td> <td>7     </td> <td>0     </td> <td>14    </td>\n",
       "        </tr>\n",
       "        <tr>\n",
       "            <td>Colorado        </td> <td>10    </td> <td>13    </td> <td>0     </td> <td>3     </td> <td>0     </td> <td>3     </td> <td>0     </td> <td>0     </td>\n",
       "        </tr>\n",
       "        <tr>\n",
       "            <td>Oregon State    </td> <td>10    </td> <td>7     </td> <td>14    </td> <td>8     </td> <td>0     </td> <td>10    </td> <td>7     </td> <td>8     </td>\n",
       "        </tr>\n",
       "        <tr>\n",
       "            <td>Arizona         </td> <td>0     </td> <td>0     </td> <td>3     </td> <td>0     </td> <td>0     </td> <td>0     </td> <td>3     </td> <td>7     </td>\n",
       "        </tr>\n",
       "        <tr>\n",
       "            <td>Stanford        </td> <td>0     </td> <td>14    </td> <td>13    </td> <td>14    </td> <td>0     </td> <td>3     </td> <td>0     </td> <td>8     </td>\n",
       "        </tr>\n",
       "        <tr>\n",
       "            <td>UCLA            </td> <td>0     </td> <td>14    </td> <td>0     </td> <td>0     </td> <td>3     </td> <td>14    </td> <td>10    </td> <td>15    </td>\n",
       "        </tr>\n",
       "        <tr>\n",
       "            <td>USC             </td> <td>3     </td> <td>14    </td> <td>0     </td> <td>7     </td> <td>0     </td> <td>7     </td> <td>0     </td> <td>7     </td>\n",
       "        </tr>\n",
       "    </tbody>\n",
       "</table>"
      ],
      "text/plain": [
       "<IPython.core.display.HTML object>"
      ]
     },
     "metadata": {},
     "output_type": "display_data"
    }
   ],
   "source": [
    "# Just run this cell\n",
    "# Read in the cal_fb csv file\n",
    "games = Table().read_table(\"cal_fb.csv\")\n",
    "games.show()"
   ]
  },
  {
   "cell_type": "markdown",
   "id": "06f1d62d",
   "metadata": {
    "deletable": false,
    "editable": false
   },
   "source": [
    "Let's start by finding the total points each team scored in a game.\n",
    "\n",
    "**Question 1.** Write a function called `sum_scores`.  It should take four arguments, where each argument represents integers corresponding to the team's score for each quarter. It should return the team's total score for that game. **(2 Points)**\n",
    "\n",
    "*Note:* Don't overthink this question!\n",
    "\n",
    "\n",
    "<!--\n",
    "BEGIN QUESTION\n",
    "name: q1_1\n",
    "manual: false\n",
    "points:\n",
    " - 1\n",
    " - 1\n",
    "-->"
   ]
  },
  {
   "cell_type": "code",
   "execution_count": 4,
   "id": "537c874f",
   "metadata": {},
   "outputs": [
    {
     "data": {
      "text/plain": [
       "24"
      ]
     },
     "execution_count": 4,
     "metadata": {},
     "output_type": "execute_result"
    }
   ],
   "source": [
    "def sum_scores(a,b,c,d):\n",
    "    '''Returns the total score calculated by adding up the score of each quarter'''\n",
    "    return (a+b+c+d)\n",
    "\n",
    "sum_scores(14, 7, 3, 0) #DO NOT CHANGE THIS LINE"
   ]
  },
  {
   "cell_type": "code",
   "execution_count": 5,
   "id": "7b7aa3db",
   "metadata": {
    "deletable": false,
    "editable": false
   },
   "outputs": [
    {
     "data": {
      "text/html": [
       "<p><strong><pre style='display: inline;'>q1_1</pre></strong> passed!</p>"
      ],
      "text/plain": [
       "q1_1 results: All test cases passed!"
      ]
     },
     "execution_count": 5,
     "metadata": {},
     "output_type": "execute_result"
    }
   ],
   "source": [
    "grader.check(\"q1_1\")"
   ]
  },
  {
   "cell_type": "markdown",
   "id": "a2d9a55b",
   "metadata": {
    "deletable": false,
    "editable": false
   },
   "source": [
    "**Question 2.** Create a new table `final_scores` with three columns in this *specific* order: `Opponent`, `Cal Score`, `Opponent Score`. You will have to create the `Cal Score` and `Opponent Score` columns. Use the function `sum_scores` you just defined in the previous question for this problem. **(5 Points)**\n",
    "\n",
    "*Hint:* If you want to apply a function that takes in multiple arguments, you can pass multiple column names as arguments in `tbl.apply()`. The column values will be passed into the corresponding arguments of the function. Take a look at the Python Reference Sheet and Lecture 13's demo for syntax.\n",
    "\n",
    "*Note:* If you’re running into issues creating `final_scores`, check that `cal_scores` and `opponent_scores` output what you want. \n",
    "\n",
    "<!--\n",
    "BEGIN QUESTION\n",
    "name: q1_2\n",
    "manual: false\n",
    "points:\n",
    " - 0\n",
    " - 0\n",
    " - 5\n",
    "-->"
   ]
  },
  {
   "cell_type": "code",
   "execution_count": 6,
   "id": "c8c7bdbb",
   "metadata": {},
   "outputs": [
    {
     "data": {
      "text/html": [
       "<table border=\"1\" class=\"dataframe\">\n",
       "    <thead>\n",
       "        <tr>\n",
       "            <th>Opponent</th> <th>Cal Score</th> <th>Opponent Score</th>\n",
       "        </tr>\n",
       "    </thead>\n",
       "    <tbody>\n",
       "        <tr>\n",
       "            <td>Nevada          </td> <td>17       </td> <td>22            </td>\n",
       "        </tr>\n",
       "        <tr>\n",
       "            <td>TCU             </td> <td>32       </td> <td>34            </td>\n",
       "        </tr>\n",
       "        <tr>\n",
       "            <td>Sacramento State</td> <td>42       </td> <td>30            </td>\n",
       "        </tr>\n",
       "        <tr>\n",
       "            <td>Washington      </td> <td>24       </td> <td>31            </td>\n",
       "        </tr>\n",
       "        <tr>\n",
       "            <td>Washington State</td> <td>6        </td> <td>21            </td>\n",
       "        </tr>\n",
       "        <tr>\n",
       "            <td>Oregon          </td> <td>17       </td> <td>24            </td>\n",
       "        </tr>\n",
       "        <tr>\n",
       "            <td>Colorado        </td> <td>26       </td> <td>3             </td>\n",
       "        </tr>\n",
       "        <tr>\n",
       "            <td>Oregon State    </td> <td>39       </td> <td>25            </td>\n",
       "        </tr>\n",
       "        <tr>\n",
       "            <td>Arizona         </td> <td>3        </td> <td>10            </td>\n",
       "        </tr>\n",
       "        <tr>\n",
       "            <td>Stanford        </td> <td>41       </td> <td>11            </td>\n",
       "        </tr>\n",
       "    </tbody>\n",
       "</table>\n",
       "<p>... (2 rows omitted)</p>"
      ],
      "text/plain": [
       "Opponent         | Cal Score | Opponent Score\n",
       "Nevada           | 17        | 22\n",
       "TCU              | 32        | 34\n",
       "Sacramento State | 42        | 30\n",
       "Washington       | 24        | 31\n",
       "Washington State | 6         | 21\n",
       "Oregon           | 17        | 24\n",
       "Colorado         | 26        | 3\n",
       "Oregon State     | 39        | 25\n",
       "Arizona          | 3         | 10\n",
       "Stanford         | 41        | 11\n",
       "... (2 rows omitted)"
      ]
     },
     "execution_count": 6,
     "metadata": {},
     "output_type": "execute_result"
    }
   ],
   "source": [
    "cal_scores = games.apply(sum_scores, \"Cal 1Q\", \"Cal 2Q\", \"Cal 3Q\", \"Cal 4Q\")\n",
    "opponent_scores = games.apply(sum_scores, \"Opp 1Q\", \"Opp 2Q\", \"Opp 3Q\", \"Opp 4Q\")\n",
    "final_scores = Table().with_columns(\"Opponent\", games.column(0), \"Cal Score\", cal_scores, \"Opponent Score\", opponent_scores)\n",
    "final_scores"
   ]
  },
  {
   "cell_type": "code",
   "execution_count": 7,
   "id": "8fee6b7a",
   "metadata": {
    "deletable": false,
    "editable": false
   },
   "outputs": [
    {
     "data": {
      "text/html": [
       "<p><strong><pre style='display: inline;'>q1_2</pre></strong> passed!</p>"
      ],
      "text/plain": [
       "q1_2 results: All test cases passed!"
      ]
     },
     "execution_count": 7,
     "metadata": {},
     "output_type": "execute_result"
    }
   ],
   "source": [
    "grader.check(\"q1_2\")"
   ]
  },
  {
   "cell_type": "markdown",
   "id": "62839e7c",
   "metadata": {},
   "source": [
    "We can get specific row objects from a table. You can use `tbl.row(n)` to get the `n`th row of a table. `row.item(\"column_name\")` will allow you to select the element that corresponds to `column_name` in a particular row. Here's an example:"
   ]
  },
  {
   "cell_type": "code",
   "execution_count": 8,
   "id": "9598bf26",
   "metadata": {
    "deletable": false,
    "editable": false
   },
   "outputs": [
    {
     "data": {
      "text/plain": [
       "Row(Opponent='Stanford', Cal 1Q=0, Cal 2Q=14, Cal 3Q=13, Cal 4Q=14, Opp 1Q=0, Opp 2Q=3, Opp 3Q=0, Opp 4Q=8)"
      ]
     },
     "execution_count": 8,
     "metadata": {},
     "output_type": "execute_result"
    }
   ],
   "source": [
    "# Just run this cell\n",
    "# We got the Axe!\n",
    "games.row(9)"
   ]
  },
  {
   "cell_type": "code",
   "execution_count": 9,
   "id": "d3fb2612",
   "metadata": {
    "deletable": false,
    "editable": false
   },
   "outputs": [
    {
     "data": {
      "text/plain": [
       "14"
      ]
     },
     "execution_count": 9,
     "metadata": {},
     "output_type": "execute_result"
    }
   ],
   "source": [
    "# Just run this cell\n",
    "games.row(9).item(\"Cal 4Q\")"
   ]
  },
  {
   "cell_type": "markdown",
   "id": "921918f5",
   "metadata": {
    "deletable": false,
    "editable": false
   },
   "source": [
    "**Question 3.** We want to see for a particular game whether or not Cal lost. Write a function called `did_cal_lose`.  It should take one argument: a **row object** from the `final_scores` table. It should return either `True` if Cal's score was less than the Opponent's score, and `False` otherwise. **(5 Points)**\n",
    "\n",
    "*Note 1*: \"Row object\" means a row from the table that contains all the data for that specific row. It is **not** the index of a row. Do not try and call `final_scores.row(row)` inside of the function.\n",
    "\n",
    "*Note 2*: If you're still confused by row objects, try printing out `final_scores.row(1)` in a new cell to visually see what it looks like! This piece of code is pulling out the row object located at index 1 of the `final_scores` table and returning it. When you display it in a cell, you'll see that it is not located within a table, but is instead a standalone row object!\n",
    "\n",
    "<!--\n",
    "BEGIN QUESTION\n",
    "name: q1_3\n",
    "manual: false\n",
    "points:\n",
    " - 0\n",
    " - 2\n",
    " - 3\n",
    "-->"
   ]
  },
  {
   "cell_type": "code",
   "execution_count": 10,
   "id": "3a9df065",
   "metadata": {},
   "outputs": [
    {
     "data": {
      "text/plain": [
       "True"
      ]
     },
     "execution_count": 10,
     "metadata": {},
     "output_type": "execute_result"
    }
   ],
   "source": [
    "def did_cal_lose(row):\n",
    "    cal_scores = row.item('Cal Score')\n",
    "    opponent_scores = row.item('Opponent Score')\n",
    "    if opponent_scores > cal_scores: \n",
    "        return True \n",
    "    if cal_scores > opponent_scores:\n",
    "        return False\n",
    "\n",
    "did_cal_lose(final_scores.row(1)) #DO NOT CHANGE THIS LINE"
   ]
  },
  {
   "cell_type": "code",
   "execution_count": 11,
   "id": "de84b536",
   "metadata": {
    "deletable": false,
    "editable": false
   },
   "outputs": [
    {
     "data": {
      "text/html": [
       "<p><strong><pre style='display: inline;'>q1_3</pre></strong> passed!</p>"
      ],
      "text/plain": [
       "q1_3 results: All test cases passed!"
      ]
     },
     "execution_count": 11,
     "metadata": {},
     "output_type": "execute_result"
    }
   ],
   "source": [
    "grader.check(\"q1_3\")"
   ]
  },
  {
   "cell_type": "markdown",
   "id": "7fdbb458",
   "metadata": {
    "deletable": false,
    "editable": false
   },
   "source": [
    "**Question 4.** James wants to see how Cal did against every opponent during the 2021 season. Using the `final_scores` table:\n",
    "\n",
    "1. Assign `results` to an array of `True` and `False` values that correspond to whether or not Cal lost.\n",
    "2. Add the `results` array to the `final_scores` table in a column named `Results`, and assign this to `final_scores_with_results`.\n",
    "3. Then, respectively assign the number of wins and losses Cal had to `cal_wins` and `cal_losses`.\n",
    "\n",
    "**(10 Points)**\n",
    "\n",
    "*Hint 1*: `True` and `False` are **not** strings. What data type are they?\n",
    "\n",
    "*Hint 2*: `tbl.num_rows` might be helpful too.\n",
    "\n",
    "*Hint 3*: When you only pass a function name and no column labels through `tbl.apply()`, the function gets applied to every row in `tbl`.\n",
    "\n",
    "\n",
    "<!--\n",
    "BEGIN QUESTION\n",
    "name: q1_4\n",
    "manual: false\n",
    "points:\n",
    " - 0\n",
    " - 0\n",
    " - 5\n",
    " - 5\n",
    "-->"
   ]
  },
  {
   "cell_type": "code",
   "execution_count": 12,
   "id": "1c75d8ae",
   "metadata": {},
   "outputs": [
    {
     "name": "stdout",
     "output_type": "stream",
     "text": [
      "In the 2021 Season, Cal Football won 5 games and lost 7 games. Go Bears! 🐻\n"
     ]
    }
   ],
   "source": [
    "results = final_scores.apply(did_cal_lose)\n",
    "final_scores_with_results = final_scores.with_columns('Results', results)\n",
    "cal_losses = final_scores_with_results.group('Results').where('Results',True).column(1).item(0)\n",
    "cal_wins = final_scores_with_results.group('Results').where('Results',False).column(1).item(0)\n",
    "\n",
    "# Don't delete or edit the following line:\n",
    "print(f\"In the 2021 Season, Cal Football won {cal_wins} games and lost {cal_losses} games. Go Bears! 🐻\")"
   ]
  },
  {
   "cell_type": "code",
   "execution_count": 13,
   "id": "0a81c239",
   "metadata": {
    "deletable": false,
    "editable": false
   },
   "outputs": [
    {
     "data": {
      "text/html": [
       "<p><strong><pre style='display: inline;'>q1_4</pre></strong> passed!</p>"
      ],
      "text/plain": [
       "q1_4 results: All test cases passed!"
      ]
     },
     "execution_count": 13,
     "metadata": {},
     "output_type": "execute_result"
    }
   ],
   "source": [
    "grader.check(\"q1_4\")"
   ]
  },
  {
   "cell_type": "markdown",
   "id": "84147f1f",
   "metadata": {},
   "source": [
    "## 2. Roulette"
   ]
  },
  {
   "cell_type": "markdown",
   "id": "a543f225",
   "metadata": {},
   "source": [
    "A Nevada roulette wheel has 38 pockets and a small ball that rests on the wheel. When the wheel is spun, the ball comes to rest in one of the 38 pockets. That pocket is declared the winner. \n",
    "\n",
    "The pockets are labeled 0, 00, 1, 2, 3, 4, ... , 36. Pockets 0 and 00 are green, and the other pockets are alternately red and black. The table `wheel` is a representation of a Nevada roulette wheel. **Note that *both* columns consist of strings.** Below is an example of a roulette wheel!"
   ]
  },
  {
   "cell_type": "markdown",
   "id": "f7f67172",
   "metadata": {},
   "source": [
    "<img src=\"roulette_wheel.jpeg\" width=\"330px\">"
   ]
  },
  {
   "cell_type": "markdown",
   "id": "22434311",
   "metadata": {},
   "source": [
    "Run the cell below to load the `wheel` table."
   ]
  },
  {
   "cell_type": "code",
   "execution_count": 14,
   "id": "0742236c",
   "metadata": {},
   "outputs": [
    {
     "data": {
      "text/html": [
       "<table border=\"1\" class=\"dataframe\">\n",
       "    <thead>\n",
       "        <tr>\n",
       "            <th>Pocket</th> <th>Color</th>\n",
       "        </tr>\n",
       "    </thead>\n",
       "    <tbody>\n",
       "        <tr>\n",
       "            <td>00    </td> <td>green</td>\n",
       "        </tr>\n",
       "        <tr>\n",
       "            <td>0     </td> <td>green</td>\n",
       "        </tr>\n",
       "        <tr>\n",
       "            <td>1     </td> <td>red  </td>\n",
       "        </tr>\n",
       "        <tr>\n",
       "            <td>2     </td> <td>black</td>\n",
       "        </tr>\n",
       "        <tr>\n",
       "            <td>3     </td> <td>red  </td>\n",
       "        </tr>\n",
       "        <tr>\n",
       "            <td>4     </td> <td>black</td>\n",
       "        </tr>\n",
       "        <tr>\n",
       "            <td>5     </td> <td>red  </td>\n",
       "        </tr>\n",
       "        <tr>\n",
       "            <td>6     </td> <td>black</td>\n",
       "        </tr>\n",
       "        <tr>\n",
       "            <td>7     </td> <td>red  </td>\n",
       "        </tr>\n",
       "        <tr>\n",
       "            <td>8     </td> <td>black</td>\n",
       "        </tr>\n",
       "    </tbody>\n",
       "</table>\n",
       "<p>... (28 rows omitted)</p>"
      ],
      "text/plain": [
       "Pocket | Color\n",
       "00     | green\n",
       "0      | green\n",
       "1      | red\n",
       "2      | black\n",
       "3      | red\n",
       "4      | black\n",
       "5      | red\n",
       "6      | black\n",
       "7      | red\n",
       "8      | black\n",
       "... (28 rows omitted)"
      ]
     },
     "execution_count": 14,
     "metadata": {},
     "output_type": "execute_result"
    }
   ],
   "source": [
    "wheel = Table.read_table('roulette_wheel.csv', dtype=str)\n",
    "wheel"
   ]
  },
  {
   "cell_type": "markdown",
   "id": "fe6c18f6",
   "metadata": {},
   "source": [
    "### Betting on Red ###\n",
    "If you bet on *red*, you are betting that the winning pocket will be red. This bet *pays 1 to 1*. That means if you place a one-dollar bet on red, then:\n",
    "\n",
    "- If the winning pocket is red, you gain 1 dollar. That is, you get your original dollar back, plus one more dollar.\n",
    "- if the winning pocket is not red, you lose your dollar. In other words, you gain -1 dollars.\n",
    "\n",
    "Let's see if you can make money by betting on red at roulette."
   ]
  },
  {
   "cell_type": "markdown",
   "id": "3807f889",
   "metadata": {
    "deletable": false,
    "editable": false
   },
   "source": [
    "**Question 1.** Define a function `dollar_bet_on_red` that takes the name of a color and returns your gain in dollars if that color had won and you had placed a one-dollar bet on red. Remember that the gain can be negative. Make sure your function returns an integer. **(4 points)**\n",
    "\n",
    "*Note:* You can assume that the only colors that will be passed as arguments are red, black, and green. Your function doesn't have to check that.\n",
    "\n",
    "<!--\n",
    "BEGIN QUESTION\n",
    "name: q2_1\n",
    "manual: false\n",
    "points:\n",
    " - 2\n",
    " - 2\n",
    "-->"
   ]
  },
  {
   "cell_type": "code",
   "execution_count": 15,
   "id": "ccf57472",
   "metadata": {},
   "outputs": [],
   "source": [
    "def dollar_bet_on_red(color):\n",
    "        if color == 'red':\n",
    "            return 1\n",
    "        else:\n",
    "            return -1"
   ]
  },
  {
   "cell_type": "code",
   "execution_count": 16,
   "id": "c32d60e2",
   "metadata": {
    "deletable": false,
    "editable": false
   },
   "outputs": [
    {
     "data": {
      "text/html": [
       "<p><strong><pre style='display: inline;'>q2_1</pre></strong> passed!</p>"
      ],
      "text/plain": [
       "q2_1 results: All test cases passed!"
      ]
     },
     "execution_count": 16,
     "metadata": {},
     "output_type": "execute_result"
    }
   ],
   "source": [
    "grader.check(\"q2_1\")"
   ]
  },
  {
   "cell_type": "markdown",
   "id": "118fea5b",
   "metadata": {},
   "source": [
    "Run the cell below to make sure your function is working."
   ]
  },
  {
   "cell_type": "code",
   "execution_count": 17,
   "id": "5dad69a7",
   "metadata": {},
   "outputs": [
    {
     "name": "stdout",
     "output_type": "stream",
     "text": [
      "-1\n",
      "-1\n",
      "1\n"
     ]
    }
   ],
   "source": [
    "print(dollar_bet_on_red('green'))\n",
    "print(dollar_bet_on_red('black'))\n",
    "print(dollar_bet_on_red('red'))"
   ]
  },
  {
   "cell_type": "markdown",
   "id": "d5812c12",
   "metadata": {
    "deletable": false,
    "editable": false
   },
   "source": [
    "**Question 2.** Add a column labeled `Winnings: Red` to the table `wheel`. For each pocket, the column should contain your gain in dollars if that pocket won and you had bet one dollar on red. Your code should use the function `dollar_bet_on_red`. **(3 points)**\n",
    "\n",
    "<!--\n",
    "BEGIN QUESTION\n",
    "name: q2_2\n",
    "manual: false\n",
    "points:\n",
    " - 0\n",
    " - 3\n",
    "-->"
   ]
  },
  {
   "cell_type": "code",
   "execution_count": 18,
   "id": "9651c8f4",
   "metadata": {
    "scrolled": true
   },
   "outputs": [
    {
     "data": {
      "text/html": [
       "<table border=\"1\" class=\"dataframe\">\n",
       "    <thead>\n",
       "        <tr>\n",
       "            <th>Pocket</th> <th>Color</th> <th>Winnings: Red</th>\n",
       "        </tr>\n",
       "    </thead>\n",
       "    <tbody>\n",
       "        <tr>\n",
       "            <td>00    </td> <td>green</td> <td>-1           </td>\n",
       "        </tr>\n",
       "        <tr>\n",
       "            <td>0     </td> <td>green</td> <td>-1           </td>\n",
       "        </tr>\n",
       "        <tr>\n",
       "            <td>1     </td> <td>red  </td> <td>1            </td>\n",
       "        </tr>\n",
       "        <tr>\n",
       "            <td>2     </td> <td>black</td> <td>-1           </td>\n",
       "        </tr>\n",
       "        <tr>\n",
       "            <td>3     </td> <td>red  </td> <td>1            </td>\n",
       "        </tr>\n",
       "        <tr>\n",
       "            <td>4     </td> <td>black</td> <td>-1           </td>\n",
       "        </tr>\n",
       "        <tr>\n",
       "            <td>5     </td> <td>red  </td> <td>1            </td>\n",
       "        </tr>\n",
       "        <tr>\n",
       "            <td>6     </td> <td>black</td> <td>-1           </td>\n",
       "        </tr>\n",
       "        <tr>\n",
       "            <td>7     </td> <td>red  </td> <td>1            </td>\n",
       "        </tr>\n",
       "        <tr>\n",
       "            <td>8     </td> <td>black</td> <td>-1           </td>\n",
       "        </tr>\n",
       "    </tbody>\n",
       "</table>\n",
       "<p>... (28 rows omitted)</p>"
      ],
      "text/plain": [
       "Pocket | Color | Winnings: Red\n",
       "00     | green | -1\n",
       "0      | green | -1\n",
       "1      | red   | 1\n",
       "2      | black | -1\n",
       "3      | red   | 1\n",
       "4      | black | -1\n",
       "5      | red   | 1\n",
       "6      | black | -1\n",
       "7      | red   | 1\n",
       "8      | black | -1\n",
       "... (28 rows omitted)"
      ]
     },
     "execution_count": 18,
     "metadata": {},
     "output_type": "execute_result"
    }
   ],
   "source": [
    "red_winnings = np.array([dollar_bet_on_red(x) for x in wheel['Color']])\n",
    "wheel = wheel.append_column('Winnings: Red', red_winnings)\n",
    "wheel"
   ]
  },
  {
   "cell_type": "code",
   "execution_count": 19,
   "id": "4d071d76",
   "metadata": {
    "deletable": false,
    "editable": false
   },
   "outputs": [
    {
     "data": {
      "text/html": [
       "<p><strong><pre style='display: inline;'>q2_2</pre></strong> passed!</p>"
      ],
      "text/plain": [
       "q2_2 results: All test cases passed!"
      ]
     },
     "execution_count": 19,
     "metadata": {},
     "output_type": "execute_result"
    }
   ],
   "source": [
    "grader.check(\"q2_2\")"
   ]
  },
  {
   "cell_type": "raw",
   "id": "a9506d47-edc8-4359-b46a-1a847cd38fc9",
   "metadata": {
    "deletable": false,
    "editable": false
   },
   "source": [
    "### Simulating 10 Bets on Red\n",
    "Roulette wheels are set up so that each time they are spun, the winning pocket is equally likely to be any of the 38 pockets regardless of the results of all other spins. Let's see what would happen if we decided to bet one dollar on red each round.\n",
    "\n",
    "**Question 3.** Create a table `ten_bets` by sampling the table `wheel` to simulate 10 spins of the roulette wheel. Your table should have the same three column labels as in `wheel`. Once you've created that table, set `sum_bets` to your net gain in all 10 bets, assuming that you bet one dollar on red each time. **(3 points)**\n",
    "\n",
    "*Hint:* It may be helpful to print out `ten_bets` after you create it!\n",
    "\n",
    "<!--\n",
    "BEGIN QUESTION\n",
    "name: q2_3\n",
    "manual: false\n",
    "points:\n",
    " - 0\n",
    " - 3\n",
    "-->"
   ]
  },
  {
   "cell_type": "code",
   "execution_count": 20,
   "id": "3e1ba39d",
   "metadata": {},
   "outputs": [
    {
     "data": {
      "text/plain": [
       "-2"
      ]
     },
     "execution_count": 20,
     "metadata": {},
     "output_type": "execute_result"
    }
   ],
   "source": [
    "ten_bets = wheel.sample(10)\n",
    "sum_bets = sum(ten_bets.column('Winnings: Red'))\n",
    "sum_bets"
   ]
  },
  {
   "cell_type": "code",
   "execution_count": 21,
   "id": "f794bee2",
   "metadata": {
    "deletable": false,
    "editable": false
   },
   "outputs": [
    {
     "data": {
      "text/html": [
       "<p><strong><pre style='display: inline;'>q2_3</pre></strong> passed!</p>"
      ],
      "text/plain": [
       "q2_3 results: All test cases passed!"
      ]
     },
     "execution_count": 21,
     "metadata": {},
     "output_type": "execute_result"
    }
   ],
   "source": [
    "grader.check(\"q2_3\")"
   ]
  },
  {
   "cell_type": "markdown",
   "id": "212a6a52",
   "metadata": {},
   "source": [
    "Run the cells above a few times to see how much money you would make if you made 10 one-dollar bets on red. Making a negative amount of money doesn't feel good, but it is a reality in gambling. Casinos are a business, and they make money when gamblers lose."
   ]
  },
  {
   "cell_type": "markdown",
   "id": "239f02a5",
   "metadata": {
    "deletable": false,
    "editable": false
   },
   "source": [
    "**Question 4.** Let's see what would happen if you made more bets. Define a function `net_gain_red` that takes the number of bets and returns the net gain in that number of one-dollar bets on red. **(4 points)**\n",
    "\n",
    "*Hint:* You should use your `wheel` table within your function.\n",
    "\n",
    "<!--\n",
    "BEGIN QUESTION\n",
    "name: q2_4\n",
    "manual: false\n",
    "points:\n",
    " - 0\n",
    " - 4\n",
    "-->"
   ]
  },
  {
   "cell_type": "code",
   "execution_count": 22,
   "id": "94c372d1",
   "metadata": {},
   "outputs": [],
   "source": [
    "def net_gain_red(n):\n",
    "    n_bets = wheel.sample(n)\n",
    "    return sum(n_bets.column('Winnings: Red'))"
   ]
  },
  {
   "cell_type": "code",
   "execution_count": 23,
   "id": "c26ceebc",
   "metadata": {
    "deletable": false,
    "editable": false
   },
   "outputs": [
    {
     "data": {
      "text/html": [
       "<p><strong><pre style='display: inline;'>q2_4</pre></strong> passed!</p>"
      ],
      "text/plain": [
       "q2_4 results: All test cases passed!"
      ]
     },
     "execution_count": 23,
     "metadata": {},
     "output_type": "execute_result"
    }
   ],
   "source": [
    "grader.check(\"q2_4\")"
   ]
  },
  {
   "cell_type": "markdown",
   "id": "3065b24f",
   "metadata": {},
   "source": [
    "Run the cell below a few times to make sure that the results are similar to those you observed in the previous exercise."
   ]
  },
  {
   "cell_type": "code",
   "execution_count": 24,
   "id": "352c62cd",
   "metadata": {},
   "outputs": [
    {
     "data": {
      "text/plain": [
       "0"
      ]
     },
     "execution_count": 24,
     "metadata": {},
     "output_type": "execute_result"
    }
   ],
   "source": [
    "net_gain_red(10)"
   ]
  },
  {
   "cell_type": "markdown",
   "id": "e79593e2",
   "metadata": {
    "deletable": false,
    "editable": false
   },
   "source": [
    "**Question 5.** Complete the cell below to simulate the net gain in 200 one-dollar bets on red, repeating the process 10,000 times. After the cell is run, `all_gains_red` should be an array with 10,000 entries, each of which is the net gain in 200 one-dollar bets on red. **(4 points)**\n",
    "\n",
    "*Hint:* Think about which computational tool might be helpful for simulating a process multiple times. Lab 5 might be a good resource to look at!\n",
    "\n",
    "*Note:* This cell might take a few seconds to run.\n",
    "\n",
    "<!--\n",
    "BEGIN QUESTION\n",
    "name: q2_5\n",
    "manual: false\n",
    "points:\n",
    " - 0\n",
    " - 4\n",
    "-->"
   ]
  },
  {
   "cell_type": "code",
   "execution_count": 25,
   "id": "db6c6a41",
   "metadata": {},
   "outputs": [
    {
     "data": {
      "text/plain": [
       "10000"
      ]
     },
     "execution_count": 25,
     "metadata": {},
     "output_type": "execute_result"
    }
   ],
   "source": [
    "num_bets = wheel.sample(200)\n",
    "repetitions = 10000\n",
    "\n",
    "all_gains_red = make_array()\n",
    "\n",
    "for i in np.arange(repetitions) :\n",
    "    new_value = net_gain_red(1)\n",
    "    all_gains_red = np.append(all_gains_red, new_value)\n",
    "\n",
    "len(all_gains_red) # Do not change this line! Check that all_gains_red is length 10000."
   ]
  },
  {
   "cell_type": "code",
   "execution_count": 26,
   "id": "381957d1",
   "metadata": {
    "deletable": false,
    "editable": false
   },
   "outputs": [
    {
     "data": {
      "text/html": [
       "<p><strong><pre style='display: inline;'>q2_5</pre></strong> passed!</p>"
      ],
      "text/plain": [
       "q2_5 results: All test cases passed!"
      ]
     },
     "execution_count": 26,
     "metadata": {},
     "output_type": "execute_result"
    }
   ],
   "source": [
    "grader.check(\"q2_5\")"
   ]
  },
  {
   "cell_type": "markdown",
   "id": "5195b40a",
   "metadata": {},
   "source": [
    "Run the cell below to visualize the results of your simulation."
   ]
  },
  {
   "cell_type": "code",
   "execution_count": 27,
   "id": "51e4b5d6",
   "metadata": {},
   "outputs": [
    {
     "data": {
      "image/png": "[encoded data removed]",
      "text/plain": [
       "<Figure size 432x288 with 1 Axes>"
      ]
     },
     "metadata": {},
     "output_type": "display_data"
    }
   ],
   "source": [
    "gains = Table().with_columns('Net Gain on Red', all_gains_red)\n",
    "gains.hist(bins = np.arange(-80, 41, 4))"
   ]
  },
  {
   "cell_type": "markdown",
   "id": "c9920b7e",
   "metadata": {
    "deletable": false,
    "editable": false
   },
   "source": [
    "**Question 6:** Using the histogram above, decide whether the following statement is true or false:\n",
    "\n",
    ">If you make 200 one-dollar bets on red, your chance of losing money is more than 50%.\n",
    "\n",
    "Assign `loss_more_than_50` to either `True` or `False` depending on your answer to the question. **(2 points)**\n",
    "\n",
    "<!--\n",
    "BEGIN QUESTION\n",
    "name: q2_6\n",
    "manual: false\n",
    "points:\n",
    " - 0\n",
    " - 2\n",
    "-->"
   ]
  },
  {
   "cell_type": "code",
   "execution_count": 28,
   "id": "3b13ae5b",
   "metadata": {},
   "outputs": [
    {
     "data": {
      "text/plain": [
       "False"
      ]
     },
     "execution_count": 28,
     "metadata": {},
     "output_type": "execute_result"
    }
   ],
   "source": [
    "loss_more_than_50 = False\n",
    "loss_more_than_50"
   ]
  },
  {
   "cell_type": "code",
   "execution_count": 29,
   "id": "27fd8cc3",
   "metadata": {
    "deletable": false,
    "editable": false
   },
   "outputs": [
    {
     "data": {
      "text/html": [
       "<p><strong><pre style='display: inline;'>q2_6</pre></strong> passed!</p>"
      ],
      "text/plain": [
       "q2_6 results: All test cases passed!"
      ]
     },
     "execution_count": 29,
     "metadata": {},
     "output_type": "execute_result"
    }
   ],
   "source": [
    "grader.check(\"q2_6\")"
   ]
  },
  {
   "cell_type": "markdown",
   "id": "62a946a6",
   "metadata": {
    "deletable": false,
    "editable": false
   },
   "source": [
    "### Betting on a Split ###\n",
    "If betting on red doesn't seem like a good idea, maybe a gambler might want to try a different bet. A bet on a *split* is a bet on two consecutive numbers such as 5 and 6. This bets pays 17 to 1. That means if you place a one-dollar bet on the split 5 and 6, then:\n",
    "\n",
    "- If the winning pocket is either 5 or 6, your gain is 17 dollars.\n",
    "- If any other pocket wins, you lose your dollar, so your gain is -1 dollars.\n",
    "\n",
    "**Question 7.** Define a function `dollar_bet_on_split` that takes a pocket number and returns your gain in dollars if that pocket won and you had bet one dollar on the 5-6 split. **(4 points)**\n",
    "\n",
    "*Hint:* Remember that the pockets are represented as strings.\n",
    "\n",
    "<!--\n",
    "BEGIN QUESTION\n",
    "name: q2_7\n",
    "manual: false\n",
    "points:\n",
    " - 2\n",
    " - 1\n",
    " - 1\n",
    "-->"
   ]
  },
  {
   "cell_type": "code",
   "execution_count": 30,
   "id": "406c5b29",
   "metadata": {},
   "outputs": [],
   "source": [
    "def dollar_bet_on_split(n):\n",
    "    if n == '5' or n == '6' :\n",
    "        return 17\n",
    "    else :\n",
    "        return -1"
   ]
  },
  {
   "cell_type": "code",
   "execution_count": 31,
   "id": "81807786",
   "metadata": {
    "deletable": false,
    "editable": false
   },
   "outputs": [
    {
     "data": {
      "text/html": [
       "<p><strong><pre style='display: inline;'>q2_7</pre></strong> passed!</p>"
      ],
      "text/plain": [
       "q2_7 results: All test cases passed!"
      ]
     },
     "execution_count": 31,
     "metadata": {},
     "output_type": "execute_result"
    }
   ],
   "source": [
    "grader.check(\"q2_7\")"
   ]
  },
  {
   "cell_type": "markdown",
   "id": "fc44a06c",
   "metadata": {},
   "source": [
    "Run the cell below to check that your function is doing what it should."
   ]
  },
  {
   "cell_type": "code",
   "execution_count": 32,
   "id": "8f20bade",
   "metadata": {
    "scrolled": true
   },
   "outputs": [
    {
     "name": "stdout",
     "output_type": "stream",
     "text": [
      "17\n",
      "17\n",
      "-1\n",
      "-1\n"
     ]
    }
   ],
   "source": [
    "print(dollar_bet_on_split('5'))\n",
    "print(dollar_bet_on_split('6'))\n",
    "print(dollar_bet_on_split('00'))\n",
    "print(dollar_bet_on_split('23'))"
   ]
  },
  {
   "cell_type": "markdown",
   "id": "628429d2",
   "metadata": {
    "deletable": false,
    "editable": false
   },
   "source": [
    "**Question 8.** Add a column `Winnings: Split` to the `wheel` table. For each pocket, the column should contain your gain in dollars if that pocket won and you had bet one dollar on the 5-6 split. **(4 points)**\n",
    "\n",
    "<!--\n",
    "BEGIN QUESTION\n",
    "name: q2_8\n",
    "manual: false\n",
    "points:\n",
    " - 0\n",
    " - 4\n",
    "-->"
   ]
  },
  {
   "cell_type": "code",
   "execution_count": 33,
   "id": "8bf714e2",
   "metadata": {
    "scrolled": true
   },
   "outputs": [
    {
     "data": {
      "text/html": [
       "<table border=\"1\" class=\"dataframe\">\n",
       "    <thead>\n",
       "        <tr>\n",
       "            <th>Pocket</th> <th>Color</th> <th>Winnings: Red</th> <th>Winnings: Split</th>\n",
       "        </tr>\n",
       "    </thead>\n",
       "    <tbody>\n",
       "        <tr>\n",
       "            <td>00    </td> <td>green</td> <td>-1           </td> <td>-1             </td>\n",
       "        </tr>\n",
       "        <tr>\n",
       "            <td>0     </td> <td>green</td> <td>-1           </td> <td>-1             </td>\n",
       "        </tr>\n",
       "        <tr>\n",
       "            <td>1     </td> <td>red  </td> <td>1            </td> <td>-1             </td>\n",
       "        </tr>\n",
       "        <tr>\n",
       "            <td>2     </td> <td>black</td> <td>-1           </td> <td>-1             </td>\n",
       "        </tr>\n",
       "        <tr>\n",
       "            <td>3     </td> <td>red  </td> <td>1            </td> <td>-1             </td>\n",
       "        </tr>\n",
       "    </tbody>\n",
       "</table>\n",
       "<p>... (33 rows omitted)</p>"
      ],
      "text/plain": [
       "<IPython.core.display.HTML object>"
      ]
     },
     "metadata": {},
     "output_type": "display_data"
    }
   ],
   "source": [
    "split_winnings = np.array([dollar_bet_on_split(x) for x in wheel['Pocket']])\n",
    "wheel = wheel.append_column('Winnings: Split', split_winnings)\n",
    "wheel.show(5) # Do not change this line."
   ]
  },
  {
   "cell_type": "code",
   "execution_count": 34,
   "id": "170f08c8",
   "metadata": {
    "deletable": false,
    "editable": false
   },
   "outputs": [
    {
     "data": {
      "text/html": [
       "<p><strong><pre style='display: inline;'>q2_8</pre></strong> passed!</p>"
      ],
      "text/plain": [
       "q2_8 results: All test cases passed!"
      ]
     },
     "execution_count": 34,
     "metadata": {},
     "output_type": "execute_result"
    }
   ],
   "source": [
    "grader.check(\"q2_8\")"
   ]
  },
  {
   "cell_type": "markdown",
   "id": "50d421e5",
   "metadata": {
    "deletable": false,
    "editable": false
   },
   "source": [
    "**Question 9.** Simulate the net gain in 200 one-dollar bets on the 5-6 split, repeating the process 10,000 times and saving your gains in the array `all_gains_split`. **(4 points)**\n",
    "\n",
    "*Hint:* Your code in Questions 4 and 5 may be helpful here!\n",
    "\n",
    "<!--\n",
    "BEGIN QUESTION\n",
    "name: q2_9\n",
    "manual: false\n",
    "points:\n",
    " - 0\n",
    " - 4\n",
    "-->"
   ]
  },
  {
   "cell_type": "code",
   "execution_count": 35,
   "id": "cacc1c17",
   "metadata": {
    "scrolled": true
   },
   "outputs": [
    {
     "data": {
      "image/png": "[encoded data removed]",
      "text/plain": [
       "<Figure size 432x288 with 1 Axes>"
      ]
     },
     "metadata": {},
     "output_type": "display_data"
    }
   ],
   "source": [
    "all_gains_split = make_array()\n",
    "\n",
    "for i in np.arange(10000) :\n",
    "    value1 = dollar_bet_on_split(1)\n",
    "    all_gains_split = np.append(all_gains_split, value1)\n",
    "\n",
    "# Do not change the two lines below\n",
    "gains = gains.with_columns('Net Gain on Split', all_gains_split)\n",
    "gains.hist(bins = np.arange(-200, 150, 20))"
   ]
  },
  {
   "cell_type": "code",
   "execution_count": 36,
   "id": "4a35343a",
   "metadata": {
    "deletable": false,
    "editable": false
   },
   "outputs": [
    {
     "data": {
      "text/html": [
       "<p><strong><pre style='display: inline;'>q2_9</pre></strong> passed!</p>"
      ],
      "text/plain": [
       "q2_9 results: All test cases passed!"
      ]
     },
     "execution_count": 36,
     "metadata": {},
     "output_type": "execute_result"
    }
   ],
   "source": [
    "grader.check(\"q2_9\")"
   ]
  },
  {
   "cell_type": "markdown",
   "id": "9271de5c",
   "metadata": {
    "deletable": false,
    "editable": false
   },
   "source": [
    "**Question 10.** Look carefully at the visualization above, and assign `histogram_statements` to an array of the numbers of each statement below that can be correctly inferred from the overlaid histogram. **(2 points)**\n",
    "\n",
    "1. If you bet one dollar 200 times on a split, your chance of losing money is more than 50%.\n",
    "2. If you bet one dollar 200 times in roulette, your chance of making more than 50 dollars is greater if you bet on a split each time than if you bet on red each time.\n",
    "3. If you bet one dollar 200 times in roulette, your chance of losing more than 50 dollars is greater if you bet on a split each time than if you bet on red each time.\n",
    "\n",
    "*Hint:* We've already seen one of these statements in a prior question.\n",
    "\n",
    "<!--\n",
    "BEGIN QUESTION\n",
    "name: q2_10\n",
    "manual: false\n",
    "points:\n",
    " - 0\n",
    " - 0\n",
    " - 2\n",
    "-->"
   ]
  },
  {
   "cell_type": "code",
   "execution_count": 37,
   "id": "29cad2cf",
   "metadata": {},
   "outputs": [
    {
     "data": {
      "text/plain": [
       "array([1, 2])"
      ]
     },
     "execution_count": 37,
     "metadata": {},
     "output_type": "execute_result"
    }
   ],
   "source": [
    "histogram_statements = make_array(1,2)\n",
    "histogram_statements"
   ]
  },
  {
   "cell_type": "code",
   "execution_count": 38,
   "id": "fecfb9f7",
   "metadata": {
    "deletable": false,
    "editable": false
   },
   "outputs": [
    {
     "data": {
      "text/html": [
       "<p><strong><pre style='display: inline;'>q2_10</pre></strong> passed!</p>"
      ],
      "text/plain": [
       "q2_10 results: All test cases passed!"
      ]
     },
     "execution_count": 38,
     "metadata": {},
     "output_type": "execute_result"
    }
   ],
   "source": [
    "grader.check(\"q2_10\")"
   ]
  },
  {
   "cell_type": "markdown",
   "id": "65f82b22",
   "metadata": {},
   "source": [
    "If this exercise has put you off playing roulette, it has done its job. If you are still curious about other bets, [here](https://en.wikipedia.org/wiki/Roulette#Bet_odds_table) they all are, and [here](https://en.wikipedia.org/wiki/Roulette#House_edge) is the bad news. The house – that is, the casino – always has an edge over the gambler."
   ]
  },
  {
   "cell_type": "markdown",
   "id": "ecb4dab3",
   "metadata": {},
   "source": [
    "## 3. Chances"
   ]
  },
  {
   "cell_type": "markdown",
   "id": "d1570fff",
   "metadata": {},
   "source": [
    "Before you do this exercise, make sure you understand the logic behind all the examples in [Section 9.5](https://inferentialthinking.com/chapters/09/5/Finding_Probabilities.html). \n",
    "\n",
    "Good ways to approach probability calculations include:\n",
    "\n",
    "- Thinking one trial at a time: What does the first one have to be? Then what does the next one have to be?\n",
    "- Breaking up the event into distinct ways in which it can happen.\n",
    "- Seeing if it is easier to find the chance that the event does not happen."
   ]
  },
  {
   "cell_type": "markdown",
   "id": "22107cd6",
   "metadata": {},
   "source": [
    "### Finding Chances\n",
    "\n",
    "On each spin of a roulette wheel, all 38 pockets are equally likely to be the winner regardless of the results of other spins. Among the 38 pockets, 18 are red, 18 black, and 2 green. In each part below, write an expression that evaluates to the chance of the event described."
   ]
  },
  {
   "cell_type": "markdown",
   "id": "a753b5bc",
   "metadata": {
    "deletable": false,
    "editable": false
   },
   "source": [
    "**Question 1.** The winning pocket is black on all of the first three spins. **(3 points)**\n",
    "\n",
    "<!--\n",
    "BEGIN QUESTION\n",
    "name: q3_1\n",
    "manual: false\n",
    "points:\n",
    " - 0\n",
    " - 3\n",
    "-->"
   ]
  },
  {
   "cell_type": "code",
   "execution_count": 39,
   "id": "104e53c5",
   "metadata": {},
   "outputs": [
    {
     "data": {
      "text/plain": [
       "0.10628371482723427"
      ]
     },
     "execution_count": 39,
     "metadata": {},
     "output_type": "execute_result"
    }
   ],
   "source": [
    "first_three_black = (18/38) ** 3\n",
    "first_three_black"
   ]
  },
  {
   "cell_type": "code",
   "execution_count": 40,
   "id": "42f670e9",
   "metadata": {
    "deletable": false,
    "editable": false
   },
   "outputs": [
    {
     "data": {
      "text/html": [
       "<p><strong><pre style='display: inline;'>q3_1</pre></strong> passed!</p>"
      ],
      "text/plain": [
       "q3_1 results: All test cases passed!"
      ]
     },
     "execution_count": 40,
     "metadata": {},
     "output_type": "execute_result"
    }
   ],
   "source": [
    "grader.check(\"q3_1\")"
   ]
  },
  {
   "cell_type": "markdown",
   "id": "ccde16d0",
   "metadata": {
    "deletable": false,
    "editable": false
   },
   "source": [
    "**Question 2.** The color green never wins in the first 10 spins. **(3 points)**\n",
    "\n",
    "<!--\n",
    "BEGIN QUESTION\n",
    "name: q3_2\n",
    "manual: false\n",
    "points:\n",
    " - 0\n",
    " - 3\n",
    "-->"
   ]
  },
  {
   "cell_type": "code",
   "execution_count": 41,
   "id": "c899247e",
   "metadata": {},
   "outputs": [
    {
     "data": {
      "text/plain": [
       "0.5823566532299392"
      ]
     },
     "execution_count": 41,
     "metadata": {},
     "output_type": "execute_result"
    }
   ],
   "source": [
    "no_green = (36/38) ** 10\n",
    "no_green"
   ]
  },
  {
   "cell_type": "code",
   "execution_count": 42,
   "id": "86ccaabe",
   "metadata": {
    "deletable": false,
    "editable": false
   },
   "outputs": [
    {
     "data": {
      "text/html": [
       "<p><strong><pre style='display: inline;'>q3_2</pre></strong> passed!</p>"
      ],
      "text/plain": [
       "q3_2 results: All test cases passed!"
      ]
     },
     "execution_count": 42,
     "metadata": {},
     "output_type": "execute_result"
    }
   ],
   "source": [
    "grader.check(\"q3_2\")"
   ]
  },
  {
   "cell_type": "markdown",
   "id": "751fb5b8",
   "metadata": {
    "deletable": false,
    "editable": false
   },
   "source": [
    "**Question 3.** The color green wins at least once on the first 10 spins. **(3 points)**\n",
    "\n",
    "<!--\n",
    "BEGIN QUESTION\n",
    "name: q3_3\n",
    "manual: false\n",
    "points:\n",
    " - 0\n",
    " - 3\n",
    "-->"
   ]
  },
  {
   "cell_type": "code",
   "execution_count": 43,
   "id": "4beb59b7",
   "metadata": {},
   "outputs": [
    {
     "data": {
      "text/plain": [
       "0.41764334677006076"
      ]
     },
     "execution_count": 43,
     "metadata": {},
     "output_type": "execute_result"
    }
   ],
   "source": [
    "at_least_one_green = 1-(36/38) ** 10\n",
    "at_least_one_green"
   ]
  },
  {
   "cell_type": "code",
   "execution_count": 44,
   "id": "5eb15ac8",
   "metadata": {
    "deletable": false,
    "editable": false
   },
   "outputs": [
    {
     "data": {
      "text/html": [
       "<p><strong><pre style='display: inline;'>q3_3</pre></strong> passed!</p>"
      ],
      "text/plain": [
       "q3_3 results: All test cases passed!"
      ]
     },
     "execution_count": 44,
     "metadata": {},
     "output_type": "execute_result"
    }
   ],
   "source": [
    "grader.check(\"q3_3\")"
   ]
  },
  {
   "cell_type": "markdown",
   "id": "ce51249a",
   "metadata": {
    "deletable": false,
    "editable": false
   },
   "source": [
    "**Question 4.** Two of the three colors never win in the first 10 spins. **(3 points)**\n",
    "\n",
    "*Hint:* Imagine the event with the colors red, yellow, and orange. What situation(s) lead to two of the three colors never winning in the first 10 spins?\n",
    "\n",
    "<!--\n",
    "BEGIN QUESTION\n",
    "name: q3_4\n",
    "manual: false\n",
    "points:\n",
    " - 0\n",
    " - 3\n",
    "-->"
   ]
  },
  {
   "cell_type": "code",
   "execution_count": 45,
   "id": "6bd5a5db",
   "metadata": {},
   "outputs": [
    {
     "data": {
      "text/plain": [
       "0.0011374153385028288"
      ]
     },
     "execution_count": 45,
     "metadata": {},
     "output_type": "execute_result"
    }
   ],
   "source": [
    "lone_winners = (18/38) ** 10 + (18/38) ** 10 + (2/38) ** 10\n",
    "lone_winners"
   ]
  },
  {
   "cell_type": "code",
   "execution_count": 46,
   "id": "1958b9a9",
   "metadata": {
    "deletable": false,
    "editable": false
   },
   "outputs": [
    {
     "data": {
      "text/html": [
       "<p><strong><pre style='display: inline;'>q3_4</pre></strong> passed!</p>"
      ],
      "text/plain": [
       "q3_4 results: All test cases passed!"
      ]
     },
     "execution_count": 46,
     "metadata": {},
     "output_type": "execute_result"
    }
   ],
   "source": [
    "grader.check(\"q3_4\")"
   ]
  },
  {
   "cell_type": "markdown",
   "id": "7eefb56c",
   "metadata": {},
   "source": [
    "### Comparing Chances\n",
    "In each of Questions 5-7, two events A and B are described. Choose from one of the following three options and set each answer variable to a single integer:\n",
    "\n",
    "1. Event A is more likely than Event B\n",
    "2. Event B is more likely than Event A\n",
    "3. The two events have the same chance.\n",
    "\n",
    "You should be able to make the choices **without calculation**. Good ways to approach this exercise include imagining carrying out the chance experiments yourself, one trial at a time, and by thinking about the [law of averages](https://inferentialthinking.com/chapters/10/1/Empirical_Distributions.html#the-law-of-averages)."
   ]
  },
  {
   "cell_type": "markdown",
   "id": "9790849c",
   "metadata": {
    "deletable": false,
    "editable": false
   },
   "source": [
    "**Question 5.** A child picks four times at random from a box that has four toy animals: a bear, an elephant, a giraffe, and a kangaroo. **(2 points)**\n",
    "\n",
    "- Event A: all four different animals are picked (assuming the child picks without replacement)\n",
    "- Event B: all four different animals are picked (assuming the child picks with replacement)\n",
    "\n",
    "<!--\n",
    "BEGIN QUESTION\n",
    "name: q3_5\n",
    "manual: false\n",
    "points:\n",
    " - 0\n",
    " - 0\n",
    " - 2\n",
    "-->"
   ]
  },
  {
   "cell_type": "code",
   "execution_count": 47,
   "id": "235842e9",
   "metadata": {},
   "outputs": [
    {
     "data": {
      "text/plain": [
       "1"
      ]
     },
     "execution_count": 47,
     "metadata": {},
     "output_type": "execute_result"
    }
   ],
   "source": [
    "toys_option = 1\n",
    "toys_option"
   ]
  },
  {
   "cell_type": "code",
   "execution_count": 48,
   "id": "5d6fe788",
   "metadata": {
    "deletable": false,
    "editable": false
   },
   "outputs": [
    {
     "data": {
      "text/html": [
       "<p><strong><pre style='display: inline;'>q3_5</pre></strong> passed!</p>"
      ],
      "text/plain": [
       "q3_5 results: All test cases passed!"
      ]
     },
     "execution_count": 48,
     "metadata": {},
     "output_type": "execute_result"
    }
   ],
   "source": [
    "grader.check(\"q3_5\")"
   ]
  },
  {
   "cell_type": "markdown",
   "id": "82a5a7be",
   "metadata": {
    "deletable": false,
    "editable": false
   },
   "source": [
    "**Question 6.** In a lottery, two numbers are drawn at random with replacement from the integers 1 through 1000. **(2 points)**\n",
    "\n",
    "- Event A: The number 8 is picked on both draws\n",
    "- Event B: The same number is picked on both draws\n",
    "\n",
    "<!--\n",
    "BEGIN QUESTION\n",
    "name: q3_6\n",
    "manual: false\n",
    "points:\n",
    " - 0\n",
    " - 0\n",
    " - 2\n",
    "-->"
   ]
  },
  {
   "cell_type": "code",
   "execution_count": 49,
   "id": "2db471bc",
   "metadata": {},
   "outputs": [
    {
     "data": {
      "text/plain": [
       "3"
      ]
     },
     "execution_count": 49,
     "metadata": {},
     "output_type": "execute_result"
    }
   ],
   "source": [
    "lottery_option = 3\n",
    "lottery_option"
   ]
  },
  {
   "cell_type": "code",
   "execution_count": 50,
   "id": "800c243f",
   "metadata": {
    "deletable": false,
    "editable": false
   },
   "outputs": [
    {
     "data": {
      "text/html": [
       "<p><strong><pre style='display: inline;'>q3_6</pre></strong> passed!</p>"
      ],
      "text/plain": [
       "q3_6 results: All test cases passed!"
      ]
     },
     "execution_count": 50,
     "metadata": {},
     "output_type": "execute_result"
    }
   ],
   "source": [
    "grader.check(\"q3_6\")"
   ]
  },
  {
   "cell_type": "markdown",
   "id": "fe6da012",
   "metadata": {
    "deletable": false,
    "editable": false
   },
   "source": [
    "**Question 7.** A fair coin is tossed repeatedly. **(2 points)**\n",
    "\n",
    "- Event A: There are 60 or more heads in 100 tosses\n",
    "- Event B: There are 600 or more heads in 1000 tosses\n",
    "\n",
    "*Hint*: Think about the law of averages!\n",
    "\n",
    "<!--\n",
    "BEGIN QUESTION\n",
    "name: q3_7\n",
    "manual: false\n",
    "points:\n",
    " - 0\n",
    " - 0\n",
    " - 2\n",
    "-->"
   ]
  },
  {
   "cell_type": "code",
   "execution_count": 51,
   "id": "54f8d45f",
   "metadata": {},
   "outputs": [
    {
     "data": {
      "text/plain": [
       "1"
      ]
     },
     "execution_count": 51,
     "metadata": {},
     "output_type": "execute_result"
    }
   ],
   "source": [
    "coin_option = 1\n",
    "coin_option"
   ]
  },
  {
   "cell_type": "code",
   "execution_count": 52,
   "id": "a1011ca8",
   "metadata": {
    "deletable": false,
    "editable": false
   },
   "outputs": [
    {
     "data": {
      "text/html": [
       "<p><strong><pre style='display: inline;'>q3_7</pre></strong> passed!</p>"
      ],
      "text/plain": [
       "q3_7 results: All test cases passed!"
      ]
     },
     "execution_count": 52,
     "metadata": {},
     "output_type": "execute_result"
    }
   ],
   "source": [
    "grader.check(\"q3_7\")"
   ]
  },
  {
   "cell_type": "markdown",
   "id": "6ef5d290",
   "metadata": {},
   "source": [
    "## 4. Three Ways Python Draws Random Samples"
   ]
  },
  {
   "cell_type": "markdown",
   "id": "9a5377a8",
   "metadata": {},
   "source": [
    "You have learned three ways to draw random samples using Python:\n",
    "\n",
    "- `tbl.sample` draws a random sample of rows from the table `tbl`. The output is a table consisting of the sampled rows. \n",
    "\n",
    "- `np.random.choice` draws a random sample from a population whose elements are in an array. The output is an array consisting of the sampled elements.\n",
    "\n",
    "- `sample_proportions` draws from a categorical distribution whose proportions are in an array. The output is an array consisting of the sampled proportions in all the categories. "
   ]
  },
  {
   "cell_type": "code",
   "execution_count": 53,
   "id": "4e3a9aaa",
   "metadata": {},
   "outputs": [
    {
     "data": {
      "text/html": [
       "<table border=\"1\" class=\"dataframe\">\n",
       "    <thead>\n",
       "        <tr>\n",
       "            <th>Title</th> <th>Studio</th>\n",
       "        </tr>\n",
       "    </thead>\n",
       "    <tbody>\n",
       "        <tr>\n",
       "            <td>Gone with the Wind</td> <td>MGM   </td>\n",
       "        </tr>\n",
       "        <tr>\n",
       "            <td>Star Wars         </td> <td>Fox   </td>\n",
       "        </tr>\n",
       "        <tr>\n",
       "            <td>The Sound of Music</td> <td>Fox   </td>\n",
       "        </tr>\n",
       "    </tbody>\n",
       "</table>\n",
       "<p>... (197 rows omitted)</p>"
      ],
      "text/plain": [
       "<IPython.core.display.HTML object>"
      ]
     },
     "metadata": {},
     "output_type": "display_data"
    }
   ],
   "source": [
    "# Look through this code and run this cell for questions 1 and 2\n",
    "top = Table.read_table('top_movies_2017.csv').select(0, 1)\n",
    "top.show(3)"
   ]
  },
  {
   "cell_type": "code",
   "execution_count": 54,
   "id": "5ff73979",
   "metadata": {},
   "outputs": [
    {
     "data": {
      "text/html": [
       "<table border=\"1\" class=\"dataframe\">\n",
       "    <thead>\n",
       "        <tr>\n",
       "            <th>Studio</th> <th>count</th>\n",
       "        </tr>\n",
       "    </thead>\n",
       "    <tbody>\n",
       "        <tr>\n",
       "            <td>Buena Vista    </td> <td>35   </td>\n",
       "        </tr>\n",
       "        <tr>\n",
       "            <td>Warner Brothers</td> <td>29   </td>\n",
       "        </tr>\n",
       "        <tr>\n",
       "            <td>Paramount      </td> <td>25   </td>\n",
       "        </tr>\n",
       "    </tbody>\n",
       "</table>\n",
       "<p>... (20 rows omitted)</p>"
      ],
      "text/plain": [
       "<IPython.core.display.HTML object>"
      ]
     },
     "metadata": {},
     "output_type": "display_data"
    }
   ],
   "source": [
    "# Look through this code and run this cell for questions 1 and 2\n",
    "studios_with_counts = top.group('Studio').sort('count', descending=True)\n",
    "studios_with_counts.show(3)"
   ]
  },
  {
   "cell_type": "code",
   "execution_count": 55,
   "id": "871537dc",
   "metadata": {},
   "outputs": [
    {
     "name": "stdout",
     "output_type": "stream",
     "text": [
      "studios_of_all_movies: ['MGM' 'Fox' 'Fox' 'Universal' 'Paramount' 'Paramount' 'Universal' 'MGM'\n",
      " 'Warner Brothers' 'Disney'] ...\n",
      "\n",
      " distinct_studios: ['Buena Vista' 'Warner Brothers' 'Paramount' 'Fox' 'Universal' 'Disney'\n",
      " 'Columbia' 'MGM' 'United Artists' 'Newline' 'Paramount/Dreamworks' 'Sony'\n",
      " 'Dreamworks' 'Lionsgate' 'RKO' 'Tristar' 'AVCO' 'IFC' 'Metro' 'NM'\n",
      " 'Orion' 'Selz.' 'Sum.']\n"
     ]
    }
   ],
   "source": [
    "# Look through this code and run this cell for questions 1 and 2\n",
    "studios_of_all_movies = top.column('Studio')\n",
    "distinct_studios = studios_with_counts.column('Studio')\n",
    "\n",
    "print(\"studios_of_all_movies:\", studios_of_all_movies[:10], \"...\")\n",
    "print(\"\\n distinct_studios:\", distinct_studios)"
   ]
  },
  {
   "cell_type": "code",
   "execution_count": 56,
   "id": "c875e4bd",
   "metadata": {},
   "outputs": [
    {
     "name": "stdout",
     "output_type": "stream",
     "text": [
      "studio_counts_only: [35 29 25 24 23 11  9  7  6  5  4  4  3  3  3  2  1  1  1  1  1  1  1]\n",
      "\n",
      " studio_proportions_only: [0.175 0.145 0.125 0.12  0.115 0.055 0.045 0.035 0.03  0.025 0.02  0.02\n",
      " 0.015 0.015 0.015 0.01  0.005 0.005 0.005 0.005 0.005 0.005 0.005]\n"
     ]
    }
   ],
   "source": [
    "# Look through this code and run this cell for questions 1 and 2\n",
    "studio_counts_only = studios_with_counts.column('count')\n",
    "studio_proportions_only = studio_counts_only / sum(studio_counts_only)\n",
    "\n",
    "print(\"studio_counts_only:\", studio_counts_only)\n",
    "print(\"\\n studio_proportions_only:\", studio_proportions_only)"
   ]
  },
  {
   "cell_type": "markdown",
   "id": "fde6a0e0",
   "metadata": {},
   "source": [
    "In Questions 1 and 2, we will present a scenario. Determine which three of the following six options are true in regards to what the question is asking, and list them in the following answer cell. If your answer includes any of (i)-(iii), state what you would fill in the blank to make it true: `top`, `studios_with_counts`, `studios_of_all_movies`, `distinct_studios`, `studio_counts_only` or `studio_proportions_only`.\n",
    "\n",
    "(i) This can be done using `sample` and the table _________.\n",
    "\n",
    "(ii) This can be done using `np.random.choice` and the array ________.\n",
    "\n",
    "(iii) This can be done using `sample_proportions` and the array _______.\n",
    "\n",
    "(iv) This cannot be done using `sample` and the data given.\n",
    "\n",
    "(v) This cannot be done using `np.random.choice` and the data given.\n",
    "\n",
    "(vi) This cannot be done using `sample_proportions` and the data given."
   ]
  },
  {
   "cell_type": "raw",
   "id": "69b6e902-15d3-4f12-91f2-3ddc4a18882a",
   "metadata": {},
   "source": []
  },
  {
   "cell_type": "markdown",
   "id": "3b8df63c",
   "metadata": {
    "deletable": false,
    "editable": false
   },
   "source": [
    "<!-- BEGIN QUESTION -->\n",
    "\n",
    "**Question 1.** Simulate a sample of 10 movies drawn at random with replacement from the 200 movies. Outputs True if Paramount appears more often than Warner Brothers among studios that released the sampled movies, and False otherwise. **(3 points)**\n",
    "\n",
    "*Example Answer:* (i) studios_of_all_movies, (iii) top, (v)\n",
    "\n",
    "***Note***: Do not explain your answer for any of the options you've chosen; please follow the structure of the example answer provided.\n",
    "\n",
    "<!--\n",
    "BEGIN QUESTION\n",
    "name: q4_1\n",
    "manual: true\n",
    "-->"
   ]
  },
  {
   "cell_type": "markdown",
   "id": "1429e686",
   "metadata": {},
   "source": [
    "(i) top, (v), (vi)"
   ]
  },
  {
   "cell_type": "markdown",
   "id": "5b157610",
   "metadata": {
    "deletable": false,
    "editable": false
   },
   "source": [
    "<!-- END QUESTION -->\n",
    "\n",
    "<!-- BEGIN QUESTION -->\n",
    "\n",
    "**Question 2.** Simulate a sample of 10 movies drawn at random with replacement from the 200 movies. Outputs True if the first sampled movie was released by the same studio as the last sampled movie. **(3 points)**\n",
    "\n",
    "*Example Answer:* (i) studios_of_all_movies, (iii) top, (v)\n",
    "\n",
    "***Note***: Do not explain your answer for any of the options you've chosen; please follow the structure of the example answer provided.\n",
    "\n",
    "<!--\n",
    "BEGIN QUESTION\n",
    "name: q4_2\n",
    "manual: true\n",
    "-->"
   ]
  },
  {
   "cell_type": "markdown",
   "id": "778b7b16",
   "metadata": {},
   "source": [
    "(i) top, (ii) top, (vi)"
   ]
  },
  {
   "cell_type": "markdown",
   "id": "6c4f10c0",
   "metadata": {
    "tags": []
   },
   "source": [
    "<!-- END QUESTION -->\n",
    "\n",
    "\n",
    "\n",
    "## 5. Assessing Jade's Models\n",
    "\n",
    "Before you begin, [Section 10.4](https://inferentialthinking.com/chapters/10/4/Random_Sampling_in_Python.html) of the textbook is a useful reference for this part."
   ]
  },
  {
   "cell_type": "markdown",
   "id": "fa4aaa67",
   "metadata": {},
   "source": [
    "### Games with Jade\n",
    "Our friend Jade comes over and asks us to play a game with her. The game works like this: \n",
    "\n",
    "> We will draw randomly with replacement from a simplified 13 card deck with 4 face cards (A, J, Q, K), and 9 numbered cards (2, 3, 4, 5, 6, 7, 8, 9, 10). If we draw cards with replacement 13 times, and if the number of face cards is greater than or equal to 4, we lose.\n",
    "> \n",
    "> Otherwise, Jade loses.\n",
    "\n",
    "We play the game once and we lose, observing 8 total face cards. We are angry and accuse Jade of cheating! Jade is adamant, however, that the deck is fair.\n",
    "\n",
    "Jade's model claims that there is an equal chance of getting any of the cards (A, 2, 3, 4, 5, 6, 7, 8, 9, 10, J, Q, K), but we do not believe her. We believe that the deck is clearly rigged, with face cards (A, J, Q, K) being more likely than the numbered cards (2, 3, 4, 5, 6, 7, 8, 9, 10)."
   ]
  },
  {
   "cell_type": "markdown",
   "id": "d3ad455a",
   "metadata": {
    "deletable": false,
    "editable": false
   },
   "source": [
    "**Question 1.** Assign `deck_model_probabilities` to a two-item array containing the chance of drawing a face card as the first element, and the chance of drawing a numbered card as the second element under Jade's model. Since we're working with probabilities, make sure your values are between 0 and 1. **(3 Points)**\n",
    "\n",
    "<!--\n",
    "BEGIN QUESTION\n",
    "name: q5_1\n",
    "manual: false\n",
    "points:\n",
    " - 0\n",
    " - 0\n",
    " - 1\n",
    " - 2\n",
    "-->"
   ]
  },
  {
   "cell_type": "code",
   "execution_count": 57,
   "id": "a1187741",
   "metadata": {},
   "outputs": [
    {
     "data": {
      "text/plain": [
       "array([0.30769231, 0.69230769])"
      ]
     },
     "execution_count": 57,
     "metadata": {},
     "output_type": "execute_result"
    }
   ],
   "source": [
    "deck_model_probabilities = make_array((4/13),(9/13))\n",
    "deck_model_probabilities"
   ]
  },
  {
   "cell_type": "code",
   "execution_count": 58,
   "id": "894d6b45",
   "metadata": {
    "deletable": false,
    "editable": false
   },
   "outputs": [
    {
     "data": {
      "text/html": [
       "<p><strong><pre style='display: inline;'>q5_1</pre></strong> passed!</p>"
      ],
      "text/plain": [
       "q5_1 results: All test cases passed!"
      ]
     },
     "execution_count": 58,
     "metadata": {},
     "output_type": "execute_result"
    }
   ],
   "source": [
    "grader.check(\"q5_1\")"
   ]
  },
  {
   "cell_type": "markdown",
   "id": "9b7fe2e2",
   "metadata": {
    "deletable": false,
    "editable": false
   },
   "source": [
    "**Question 2.** We believe Jade's model is incorrect. In particular, we believe there to be a *larger* chance of getting a face card. Which of the following statistics can we use during our simulation to test between the model and our alternative? Assign `statistic_choice` to the correct answer. **(3 Points)**\n",
    "\n",
    "1. The distance (absolute value) between the actual number of face cards in 13 draws and 4, the expected number of face cards in 13 draws\n",
    "2. The expected number of face cards in 13 draws, 4\n",
    "3. The number of face cards we get in 13 draws\n",
    "\n",
    "<!--\n",
    "BEGIN QUESTION\n",
    "name: q5_2\n",
    "manual: false\n",
    "points:\n",
    " - 0\n",
    " - 0\n",
    " - 3\n",
    "-->"
   ]
  },
  {
   "cell_type": "code",
   "execution_count": 59,
   "id": "3b98dde0",
   "metadata": {},
   "outputs": [
    {
     "data": {
      "text/plain": [
       "1"
      ]
     },
     "execution_count": 59,
     "metadata": {},
     "output_type": "execute_result"
    }
   ],
   "source": [
    "statistic_choice = 1\n",
    "statistic_choice"
   ]
  },
  {
   "cell_type": "code",
   "execution_count": 60,
   "id": "708ed1e8",
   "metadata": {
    "deletable": false,
    "editable": false
   },
   "outputs": [
    {
     "data": {
      "text/html": [
       "<p><strong><pre style='display: inline;'>q5_2</pre></strong> passed!</p>"
      ],
      "text/plain": [
       "q5_2 results: All test cases passed!"
      ]
     },
     "execution_count": 60,
     "metadata": {},
     "output_type": "execute_result"
    }
   ],
   "source": [
    "grader.check(\"q5_2\")"
   ]
  },
  {
   "cell_type": "markdown",
   "id": "e7578c35",
   "metadata": {
    "deletable": false,
    "editable": false
   },
   "source": [
    "**Question 3.** Define the function `deck_simulation_and_statistic`, which, given a sample size and an array of model proportions (like the one you created in Question 1), returns the number of face cards in one simulation of drawing cards under the model specified in `model_proportions`. **(5 Points)**\n",
    "\n",
    "*Hint:* Think about how you can use the function `sample_proportions`. \n",
    "\n",
    "<!--\n",
    "BEGIN QUESTION\n",
    "name: q5_3\n",
    "manual: false\n",
    "points:\n",
    " - 5\n",
    "-->"
   ]
  },
  {
   "cell_type": "code",
   "execution_count": 61,
   "id": "5a151552",
   "metadata": {},
   "outputs": [
    {
     "data": {
      "text/plain": [
       "5.0"
      ]
     },
     "execution_count": 61,
     "metadata": {},
     "output_type": "execute_result"
    }
   ],
   "source": [
    "def deck_simulation_and_statistic(sample_size, model_proportions):\n",
    "    return sample_proportions(sample_size, model_proportions).item(0) *sample_size\n",
    "\n",
    "deck_simulation_and_statistic(13, deck_model_probabilities)"
   ]
  },
  {
   "cell_type": "code",
   "execution_count": 62,
   "id": "4cfc5495",
   "metadata": {
    "deletable": false,
    "editable": false
   },
   "outputs": [
    {
     "data": {
      "text/html": [
       "<p><strong><pre style='display: inline;'>q5_3</pre></strong> passed!</p>"
      ],
      "text/plain": [
       "q5_3 results: All test cases passed!"
      ]
     },
     "execution_count": 62,
     "metadata": {},
     "output_type": "execute_result"
    }
   ],
   "source": [
    "grader.check(\"q5_3\")"
   ]
  },
  {
   "cell_type": "markdown",
   "id": "a01b1c52",
   "metadata": {
    "deletable": false,
    "editable": false
   },
   "source": [
    "**Question 4.** Use your function from above to simulate the drawing of 13 cards 5000 times under the proportions that you specified in Question 1. Keep track of all of your statistics in `deck_statistics`. **(5 Points)**\n",
    "\n",
    "<!--\n",
    "BEGIN QUESTION\n",
    "name: q5_4\n",
    "manual: false\n",
    "points:\n",
    " - 2\n",
    " - 3\n",
    "-->"
   ]
  },
  {
   "cell_type": "code",
   "execution_count": 63,
   "id": "09244df3",
   "metadata": {},
   "outputs": [
    {
     "data": {
      "text/plain": [
       "array([3., 5., 2., ..., 6., 6., 7.])"
      ]
     },
     "execution_count": 63,
     "metadata": {},
     "output_type": "execute_result"
    }
   ],
   "source": [
    "repetitions = 5000 \n",
    "deck_statistics = make_array()\n",
    "\n",
    "for i in np.arange(repetitions) :\n",
    "    my_value = deck_simulation_and_statistic(13, deck_model_probabilities)\n",
    "    deck_statistics = np.append(deck_statistics, my_value)\n",
    "\n",
    "deck_statistics"
   ]
  },
  {
   "cell_type": "code",
   "execution_count": 64,
   "id": "8d55c3b9",
   "metadata": {
    "deletable": false,
    "editable": false
   },
   "outputs": [
    {
     "data": {
      "text/html": [
       "<p><strong><pre style='display: inline;'>q5_4</pre></strong> passed!</p>"
      ],
      "text/plain": [
       "q5_4 results: All test cases passed!"
      ]
     },
     "execution_count": 64,
     "metadata": {},
     "output_type": "execute_result"
    }
   ],
   "source": [
    "grader.check(\"q5_4\")"
   ]
  },
  {
   "cell_type": "markdown",
   "id": "2d736dde",
   "metadata": {},
   "source": [
    "Let’s take a look at the distribution of simulated statistics."
   ]
  },
  {
   "cell_type": "code",
   "execution_count": 65,
   "id": "5c4a5f58",
   "metadata": {},
   "outputs": [
    {
     "data": {
      "image/png": "[encoded data removed]",
      "text/plain": [
       "<Figure size 432x288 with 1 Axes>"
      ]
     },
     "metadata": {},
     "output_type": "display_data"
    }
   ],
   "source": [
    "# Draw a distribution of statistics \n",
    "Table().with_column('Deck Statistics', deck_statistics).hist()"
   ]
  },
  {
   "cell_type": "markdown",
   "id": "388dc353",
   "metadata": {
    "deletable": false,
    "editable": false
   },
   "source": [
    "<!-- BEGIN QUESTION -->\n",
    "\n",
    "**Question 5.** Given your observed value, do you believe that Jade's model is reasonable, or is our alternative (that our deck is rigged) more likely? Explain your answer using the histogram produced above. **(4 Points)**\n",
    "\n",
    "<!--\n",
    "BEGIN QUESTION\n",
    "name: q5_5\n",
    "manual: true\n",
    "-->"
   ]
  },
  {
   "cell_type": "markdown",
   "id": "430af517",
   "metadata": {},
   "source": [
    "I don't think that Jade's model is reasonable and the alternative idea is more likely. The graph seems to have a spiked number around 3 to 6,  numbers centralized. Therefore the chance of getting numbers are not equal, making Jade with more chance of winning."
   ]
  },
  {
   "cell_type": "markdown",
   "id": "6b715209",
   "metadata": {},
   "source": [
    "<!-- END QUESTION -->\n",
    "\n",
    "\n",
    "\n",
    "You're done with Homework 5!  \n",
    "\n",
    "**Important submission steps:** \n",
    "1. Run the tests and verify that they all pass.\n",
    "2. Choose **Save Notebook** from the **File** menu, then **run the final cell**. \n",
    "3. Click the link to download the zip file.\n",
    "4. Go to [Gradescope](https://www.gradescope.com/courses/397747) and submit the zip file to the corresponding assignment. The name of this assignment is \"HW 06 Autograder\". \n",
    "\n",
    "**It is your responsibility to make sure your work is saved before running the last cell.**"
   ]
  },
  {
   "cell_type": "markdown",
   "id": "916e04b7",
   "metadata": {
    "deletable": false,
    "editable": false
   },
   "source": [
    "---\n",
    "\n",
    "To double-check your work, the cell below will rerun all of the autograder tests."
   ]
  },
  {
   "cell_type": "code",
   "execution_count": 66,
   "id": "3eaa3f6f",
   "metadata": {
    "deletable": false,
    "editable": false
   },
   "outputs": [
    {
     "data": {
      "text/plain": [
       "q1_1 results: All test cases passed!\n",
       "\n",
       "q1_2 results: All test cases passed!\n",
       "\n",
       "q1_3 results: All test cases passed!\n",
       "\n",
       "q1_4 results: All test cases passed!\n",
       "\n",
       "q2_1 results: All test cases passed!\n",
       "\n",
       "q2_10 results: All test cases passed!\n",
       "\n",
       "q2_2 results: All test cases passed!\n",
       "\n",
       "q2_3 results: All test cases passed!\n",
       "\n",
       "q2_4 results: All test cases passed!\n",
       "\n",
       "q2_5 results: All test cases passed!\n",
       "\n",
       "q2_6 results: All test cases passed!\n",
       "\n",
       "q2_7 results: All test cases passed!\n",
       "\n",
       "q2_8 results: All test cases passed!\n",
       "\n",
       "q2_9 results: All test cases passed!\n",
       "\n",
       "q3_1 results: All test cases passed!\n",
       "\n",
       "q3_2 results: All test cases passed!\n",
       "\n",
       "q3_3 results: All test cases passed!\n",
       "\n",
       "q3_4 results: All test cases passed!\n",
       "\n",
       "q3_5 results: All test cases passed!\n",
       "\n",
       "q3_6 results: All test cases passed!\n",
       "\n",
       "q3_7 results: All test cases passed!\n",
       "\n",
       "q5_1 results: All test cases passed!\n",
       "\n",
       "q5_2 results: All test cases passed!\n",
       "\n",
       "q5_3 results: All test cases passed!\n",
       "\n",
       "q5_4 results: All test cases passed!"
      ]
     },
     "execution_count": 66,
     "metadata": {},
     "output_type": "execute_result"
    }
   ],
   "source": [
    "grader.check_all()"
   ]
  },
  {
   "cell_type": "markdown",
   "id": "0181d265",
   "metadata": {
    "deletable": false,
    "editable": false
   },
   "source": [
    "## Submission\n",
    "\n",
    "Make sure you have run all cells in your notebook in order before running the cell below, so that all images/graphs appear in the output. The cell below will generate a zip file for you to submit. **Please save before exporting!**"
   ]
  },
  {
   "cell_type": "code",
   "execution_count": null,
   "id": "59fb761f",
   "metadata": {
    "deletable": false,
    "editable": false
   },
   "outputs": [],
   "source": [
    "# Save your notebook first, then run this cell to export your submission.\n",
    "grader.export(pdf=False)"
   ]
  },
  {
   "cell_type": "markdown",
   "id": "a3727991",
   "metadata": {},
   "source": [
    " "
   ]
  }
 ],
 "metadata": {
  "kernelspec": {
   "display_name": "Python 3 (ipykernel)",
   "language": "python",
   "name": "python3"
  },
  "language_info": {
   "codemirror_mode": {
    "name": "ipython",
    "version": 3
   },
   "file_extension": ".py",
   "mimetype": "text/x-python",
   "name": "python",
   "nbconvert_exporter": "python",
   "pygments_lexer": "ipython3",
   "version": "3.9.12"
  }
 },
 "nbformat": 4,
 "nbformat_minor": 5
}
